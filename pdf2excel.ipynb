{
 "cells": [
  {
   "cell_type": "code",
   "execution_count": 4,
   "metadata": {},
   "outputs": [
    {
     "ename": "ModuleNotFoundError",
     "evalue": "No module named 'tabula'",
     "output_type": "error",
     "traceback": [
      "\u001b[0;31m---------------------------------------------------------------------------\u001b[0m",
      "\u001b[0;31mModuleNotFoundError\u001b[0m                       Traceback (most recent call last)",
      "\u001b[1;32m/Users/maaz/Documents/GitHub/Tabula-PDF/pdf2excel.ipynb Cell 1\u001b[0m line \u001b[0;36m1\n\u001b[0;32m----> <a href='vscode-notebook-cell:/Users/maaz/Documents/GitHub/Tabula-PDF/pdf2excel.ipynb#W1sZmlsZQ%3D%3D?line=0'>1</a>\u001b[0m \u001b[39mimport\u001b[39;00m \u001b[39mtabula\u001b[39;00m\n\u001b[1;32m      <a href='vscode-notebook-cell:/Users/maaz/Documents/GitHub/Tabula-PDF/pdf2excel.ipynb#W1sZmlsZQ%3D%3D?line=2'>3</a>\u001b[0m \u001b[39m# Read pdf into list of DataFrame\u001b[39;00m\n\u001b[1;32m      <a href='vscode-notebook-cell:/Users/maaz/Documents/GitHub/Tabula-PDF/pdf2excel.ipynb#W1sZmlsZQ%3D%3D?line=3'>4</a>\u001b[0m dfs \u001b[39m=\u001b[39m tabula\u001b[39m.\u001b[39mread_pdf(\u001b[39m\"\u001b[39m\u001b[39mtest.pdf\u001b[39m\u001b[39m\"\u001b[39m, pages\u001b[39m=\u001b[39m\u001b[39m'\u001b[39m\u001b[39mall\u001b[39m\u001b[39m'\u001b[39m)\n",
      "\u001b[0;31mModuleNotFoundError\u001b[0m: No module named 'tabula'"
     ]
    }
   ],
   "source": [
    "import tabula\n",
    "\n",
    "# Read pdf into list of DataFrame\n",
    "dfs = tabula.read_pdf(\"test.pdf\", pages='all')\n",
    "\n",
    "# Read remote pdf into list of DataFrame\n",
    "dfs2 = tabula.read_pdf(\"https://github.com/tabulapdf/tabula-java/raw/master/src/test/resources/technology/tabula/arabic.pdf\")\n",
    "\n",
    "# convert PDF into CSV file\n",
    "tabula.convert_into(\"test.pdf\", \"output.csv\", output_format=\"csv\", pages='all')\n",
    "\n",
    "# convert all PDFs in a directory\n",
    "tabula.convert_into_by_batch(\"input_directory\", output_format='csv', pages='all')"
   ]
  }
 ],
 "metadata": {
  "kernelspec": {
   "display_name": "Python 3",
   "language": "python",
   "name": "python3"
  },
  "language_info": {
   "codemirror_mode": {
    "name": "ipython",
    "version": 3
   },
   "file_extension": ".py",
   "mimetype": "text/x-python",
   "name": "python",
   "nbconvert_exporter": "python",
   "pygments_lexer": "ipython3",
   "version": "3.12.0"
  }
 },
 "nbformat": 4,
 "nbformat_minor": 2
}
